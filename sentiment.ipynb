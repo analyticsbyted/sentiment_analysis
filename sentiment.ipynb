{
 "cells": [
  {
   "attachments": {},
   "cell_type": "markdown",
   "metadata": {},
   "source": [
    "## Sentiment Analysis in Python"
   ]
  },
  {
   "attachments": {},
   "cell_type": "markdown",
   "metadata": {},
   "source": [
    "In this notebook we will be doing some sentiment analysis in pythong using a few different techniques:\n",
    "\n",
    "1. VADER (Valence Aware Dictionary and sEntiment Reasoner)\n",
    "1. Roberta Pretrained Model from Hugging Face\n",
    "1. Huggingface Pipeline"
   ]
  },
  {
   "attachments": {},
   "cell_type": "markdown",
   "metadata": {},
   "source": [
    "### Step 0. Read in Data and NLTK Basics"
   ]
  },
  {
   "cell_type": "code",
   "execution_count": 61,
   "metadata": {},
   "outputs": [
    {
     "name": "stderr",
     "output_type": "stream",
     "text": [
      "[nltk_data] Downloading package punkt to\n",
      "[nltk_data]     C:\\Users\\teddi\\AppData\\Roaming\\nltk_data...\n",
      "[nltk_data]   Package punkt is already up-to-date!\n",
      "[nltk_data] Downloading package averaged_perceptron_tagger to\n",
      "[nltk_data]     C:\\Users\\teddi\\AppData\\Roaming\\nltk_data...\n",
      "[nltk_data]   Package averaged_perceptron_tagger is already up-to-\n",
      "[nltk_data]       date!\n"
     ]
    }
   ],
   "source": [
    "import pandas as pd\n",
    "import numpy as np\n",
    "import matplotlib.pyplot as plt\n",
    "import seaborn as sns\n",
    "\n",
    "\n",
    "plt.style.use('ggplot')\n",
    "\n",
    "import nltk\n",
    "nltk.download('punkt')\n",
    "nltk.download('averaged_perceptron_tagger')\n",
    "\n",
    "from nltk import word_tokenize, sent_tokenize, pos_tag"
   ]
  },
  {
   "cell_type": "code",
   "execution_count": 62,
   "metadata": {},
   "outputs": [
    {
     "name": "stdout",
     "output_type": "stream",
     "text": [
      "(500, 10)\n"
     ]
    }
   ],
   "source": [
    "# Read in data\n",
    "df = pd.read_csv('sampled_data.csv')\n",
    "df.reset_index(inplace=True, drop=True)\n",
    "print(df.shape)\n"
   ]
  },
  {
   "cell_type": "code",
   "execution_count": 63,
   "metadata": {},
   "outputs": [
    {
     "data": {
      "text/html": [
       "<div>\n",
       "<style scoped>\n",
       "    .dataframe tbody tr th:only-of-type {\n",
       "        vertical-align: middle;\n",
       "    }\n",
       "\n",
       "    .dataframe tbody tr th {\n",
       "        vertical-align: top;\n",
       "    }\n",
       "\n",
       "    .dataframe thead th {\n",
       "        text-align: right;\n",
       "    }\n",
       "</style>\n",
       "<table border=\"1\" class=\"dataframe\">\n",
       "  <thead>\n",
       "    <tr style=\"text-align: right;\">\n",
       "      <th></th>\n",
       "      <th>Id</th>\n",
       "      <th>ProductId</th>\n",
       "      <th>UserId</th>\n",
       "      <th>ProfileName</th>\n",
       "      <th>HelpfulnessNumerator</th>\n",
       "      <th>HelpfulnessDenominator</th>\n",
       "      <th>Score</th>\n",
       "      <th>Time</th>\n",
       "      <th>Summary</th>\n",
       "      <th>Text</th>\n",
       "    </tr>\n",
       "  </thead>\n",
       "  <tbody>\n",
       "    <tr>\n",
       "      <th>0</th>\n",
       "      <td>125114</td>\n",
       "      <td>B000NY8OLK</td>\n",
       "      <td>A1I0PEMIH7L8Q</td>\n",
       "      <td>leo</td>\n",
       "      <td>10</td>\n",
       "      <td>10</td>\n",
       "      <td>1</td>\n",
       "      <td>1288310400</td>\n",
       "      <td>New recipe made in USA</td>\n",
       "      <td>Other reviewers have already said that the Lin...</td>\n",
       "    </tr>\n",
       "    <tr>\n",
       "      <th>1</th>\n",
       "      <td>16352</td>\n",
       "      <td>B007TJGZ54</td>\n",
       "      <td>ABYVECXXSP6R5</td>\n",
       "      <td>Lapimienta</td>\n",
       "      <td>0</td>\n",
       "      <td>0</td>\n",
       "      <td>5</td>\n",
       "      <td>1280707200</td>\n",
       "      <td>Excellent-love it!</td>\n",
       "      <td>This is the best k-cup coffee I've had.  Its b...</td>\n",
       "    </tr>\n",
       "    <tr>\n",
       "      <th>2</th>\n",
       "      <td>25919</td>\n",
       "      <td>B000EVMNNC</td>\n",
       "      <td>A1JJ0QZIEENQ05</td>\n",
       "      <td>kms</td>\n",
       "      <td>0</td>\n",
       "      <td>2</td>\n",
       "      <td>3</td>\n",
       "      <td>1210636800</td>\n",
       "      <td>ok - but in small portions only</td>\n",
       "      <td>I completely liked these things --- BEFORE I g...</td>\n",
       "    </tr>\n",
       "    <tr>\n",
       "      <th>3</th>\n",
       "      <td>493952</td>\n",
       "      <td>B001F3HD06</td>\n",
       "      <td>A1CTTFNLP7MRYB</td>\n",
       "      <td>Dustin</td>\n",
       "      <td>0</td>\n",
       "      <td>0</td>\n",
       "      <td>5</td>\n",
       "      <td>1345161600</td>\n",
       "      <td>Good in Beer Too!!!</td>\n",
       "      <td>First of all, I want to start off by saying th...</td>\n",
       "    </tr>\n",
       "    <tr>\n",
       "      <th>4</th>\n",
       "      <td>223426</td>\n",
       "      <td>B002QGK2V8</td>\n",
       "      <td>A2MIUU3BJO38YJ</td>\n",
       "      <td>Ladner D. Brown</td>\n",
       "      <td>1</td>\n",
       "      <td>1</td>\n",
       "      <td>4</td>\n",
       "      <td>1259280000</td>\n",
       "      <td>Smooth, creamy and interesting</td>\n",
       "      <td>I just received my box of Kahula and it wasn't...</td>\n",
       "    </tr>\n",
       "  </tbody>\n",
       "</table>\n",
       "</div>"
      ],
      "text/plain": [
       "       Id   ProductId          UserId      ProfileName  HelpfulnessNumerator  \\\n",
       "0  125114  B000NY8OLK   A1I0PEMIH7L8Q              leo                    10   \n",
       "1   16352  B007TJGZ54   ABYVECXXSP6R5       Lapimienta                     0   \n",
       "2   25919  B000EVMNNC  A1JJ0QZIEENQ05              kms                     0   \n",
       "3  493952  B001F3HD06  A1CTTFNLP7MRYB           Dustin                     0   \n",
       "4  223426  B002QGK2V8  A2MIUU3BJO38YJ  Ladner D. Brown                     1   \n",
       "\n",
       "   HelpfulnessDenominator  Score        Time                          Summary  \\\n",
       "0                      10      1  1288310400           New recipe made in USA   \n",
       "1                       0      5  1280707200               Excellent-love it!   \n",
       "2                       2      3  1210636800  ok - but in small portions only   \n",
       "3                       0      5  1345161600              Good in Beer Too!!!   \n",
       "4                       1      4  1259280000   Smooth, creamy and interesting   \n",
       "\n",
       "                                                Text  \n",
       "0  Other reviewers have already said that the Lin...  \n",
       "1  This is the best k-cup coffee I've had.  Its b...  \n",
       "2  I completely liked these things --- BEFORE I g...  \n",
       "3  First of all, I want to start off by saying th...  \n",
       "4  I just received my box of Kahula and it wasn't...  "
      ]
     },
     "execution_count": 63,
     "metadata": {},
     "output_type": "execute_result"
    }
   ],
   "source": [
    "df.head()"
   ]
  },
  {
   "attachments": {},
   "cell_type": "markdown",
   "metadata": {},
   "source": [
    "#### Quick EDA"
   ]
  },
  {
   "cell_type": "code",
   "execution_count": 64,
   "metadata": {},
   "outputs": [
    {
     "data": {
      "image/png": "[encoded data removed]",
      "text/plain": [
       "<Figure size 1000x500 with 1 Axes>"
      ]
     },
     "metadata": {},
     "output_type": "display_data"
    }
   ],
   "source": [
    "ax = df['Score'].value_counts().sort_index() \\\n",
    "    .plot.bar(title='Count of Reviews by Stars', \n",
    "              figsize=(10, 5))\n",
    "ax.set_xlabel('Review Stars')\n",
    "\n",
    "plt.show()"
   ]
  },
  {
   "attachments": {},
   "cell_type": "markdown",
   "metadata": {},
   "source": [
    "## Basic NLTK"
   ]
  },
  {
   "cell_type": "code",
   "execution_count": 65,
   "metadata": {},
   "outputs": [
    {
     "name": "stdout",
     "output_type": "stream",
     "text": [
      "These are great.  I like the fact that they are in portion controlled bags which make them easy to throw in a book bag, carry-on bag or lunch box.  They are a bit hard so they don't crumble easily before you get to them.  The taste is similar to cinammon graham crackers.\n"
     ]
    }
   ],
   "source": [
    "example = df['Text'][50]\n",
    "print(example)"
   ]
  },
  {
   "cell_type": "code",
   "execution_count": 66,
   "metadata": {},
   "outputs": [
    {
     "data": {
      "text/plain": [
       "['These', 'are', 'great', '.', 'I', 'like', 'the', 'fact', 'that', 'they']"
      ]
     },
     "execution_count": 66,
     "metadata": {},
     "output_type": "execute_result"
    }
   ],
   "source": [
    "tokens = nltk.word_tokenize(example)\n",
    "tokens[:10]"
   ]
  },
  {
   "cell_type": "code",
   "execution_count": 67,
   "metadata": {},
   "outputs": [
    {
     "data": {
      "text/plain": [
       "[('These', 'DT'),\n",
       " ('are', 'VBP'),\n",
       " ('great', 'JJ'),\n",
       " ('.', '.'),\n",
       " ('I', 'PRP'),\n",
       " ('like', 'IN'),\n",
       " ('the', 'DT'),\n",
       " ('fact', 'NN'),\n",
       " ('that', 'IN'),\n",
       " ('they', 'PRP')]"
      ]
     },
     "execution_count": 67,
     "metadata": {},
     "output_type": "execute_result"
    }
   ],
   "source": [
    "# Find part of speech\n",
    "tagged = nltk.pos_tag(tokens) # see POS abbreviations and meanings at https://www.guru99.com/pos-tagging-chunking-nltk.html#1\n",
    "tagged[:10]"
   ]
  },
  {
   "cell_type": "code",
   "execution_count": 68,
   "metadata": {},
   "outputs": [
    {
     "name": "stdout",
     "output_type": "stream",
     "text": [
      "(S\n",
      "  These/DT\n",
      "  are/VBP\n",
      "  great/JJ\n",
      "  ./.\n",
      "  I/PRP\n",
      "  like/IN\n",
      "  the/DT\n",
      "  fact/NN\n",
      "  that/IN\n",
      "  they/PRP\n",
      "  are/VBP\n",
      "  in/IN\n",
      "  portion/NN\n",
      "  controlled/VBN\n",
      "  bags/NNS\n",
      "  which/WDT\n",
      "  make/VBP\n",
      "  them/PRP\n",
      "  easy/JJ\n",
      "  to/TO\n",
      "  throw/VB\n",
      "  in/IN\n",
      "  a/DT\n",
      "  book/NN\n",
      "  bag/NN\n",
      "  ,/,\n",
      "  carry-on/JJ\n",
      "  bag/NN\n",
      "  or/CC\n",
      "  lunch/NN\n",
      "  box/NN\n",
      "  ./.\n",
      "  They/PRP\n",
      "  are/VBP\n",
      "  a/DT\n",
      "  bit/RB\n",
      "  hard/JJ\n",
      "  so/IN\n",
      "  they/PRP\n",
      "  do/VBP\n",
      "  n't/RB\n",
      "  crumble/VB\n",
      "  easily/RB\n",
      "  before/IN\n",
      "  you/PRP\n",
      "  get/VBP\n",
      "  to/TO\n",
      "  them/PRP\n",
      "  ./.\n",
      "  The/DT\n",
      "  taste/NN\n",
      "  is/VBZ\n",
      "  similar/JJ\n",
      "  to/TO\n",
      "  cinammon/VB\n",
      "  graham/JJ\n",
      "  crackers/NNS\n",
      "  ./.)\n"
     ]
    }
   ],
   "source": [
    "# Next, lets take the POS tags and put into entities\n",
    "entities = nltk.ne_chunk(tagged)\n",
    "entities.pprint()"
   ]
  },
  {
   "attachments": {},
   "cell_type": "markdown",
   "metadata": {},
   "source": [
    "### Step 1. VADER Sentiment Scoring"
   ]
  },
  {
   "attachments": {},
   "cell_type": "markdown",
   "metadata": {},
   "source": [
    "We will use NLTK's SentimentIntensityAnalyzer to get the negative/neutral/postive scores of the text.\n",
    "\n",
    "* This uses a \"bag of words\" approach:\n",
    "    1. Stop words are removed\n",
    "    1. Each word is scored and combined to a total score.\n",
    "\n",
    "Note: This approach does not account for relationship between words."
   ]
  },
  {
   "cell_type": "code",
   "execution_count": 69,
   "metadata": {},
   "outputs": [],
   "source": [
    "#nltk.download('vader_lexicon')\n",
    "from nltk.sentiment.vader import SentimentIntensityAnalyzer\n",
    "from tqdm import tqdm\n",
    "\n",
    "sia = SentimentIntensityAnalyzer()"
   ]
  },
  {
   "cell_type": "code",
   "execution_count": 70,
   "metadata": {},
   "outputs": [
    {
     "data": {
      "text/plain": [
       "{'neg': 0.0, 'neu': 0.677, 'pos': 0.323, 'compound': 0.6468}"
      ]
     },
     "execution_count": 70,
     "metadata": {},
     "output_type": "execute_result"
    }
   ],
   "source": [
    "# Create a function to get the polarity score for a given sentence\n",
    "sia.polarity_scores('I am so happy to be coding with you all today!') # returns a dictionary of scores'"
   ]
  },
  {
   "cell_type": "code",
   "execution_count": 71,
   "metadata": {},
   "outputs": [
    {
     "data": {
      "text/plain": [
       "{'neg': 0.339, 'neu': 0.661, 'pos': 0.0, 'compound': -0.6249}"
      ]
     },
     "execution_count": 71,
     "metadata": {},
     "output_type": "execute_result"
    }
   ],
   "source": [
    "sia.polarity_scores('This is worst time of night to be coding.') # compound score range is -1 (neg) to 1 (pos)"
   ]
  },
  {
   "cell_type": "code",
   "execution_count": 72,
   "metadata": {},
   "outputs": [
    {
     "data": {
      "text/plain": [
       "0.7943"
      ]
     },
     "execution_count": 72,
     "metadata": {},
     "output_type": "execute_result"
    }
   ],
   "source": [
    "sia.polarity_scores(example)['compound']"
   ]
  },
  {
   "cell_type": "code",
   "execution_count": 73,
   "metadata": {},
   "outputs": [
    {
     "data": {
      "text/plain": [
       "{'neg': 0.06, 'neu': 0.773, 'pos': 0.167, 'compound': 0.7943}"
      ]
     },
     "execution_count": 73,
     "metadata": {},
     "output_type": "execute_result"
    }
   ],
   "source": [
    "sia.polarity_scores(example)"
   ]
  },
  {
   "cell_type": "code",
   "execution_count": 74,
   "metadata": {},
   "outputs": [
    {
     "name": "stderr",
     "output_type": "stream",
     "text": [
      "\n",
      "\u001b[A\n",
      "\u001b[A\n",
      "\u001b[A\n",
      "\u001b[A\n",
      "\u001b[A\n",
      "\u001b[A\n",
      "100%|██████████| 500/500 [00:00<00:00, 740.86it/s]\n"
     ]
    }
   ],
   "source": [
    "# Run the polarity score on all reviews\n",
    "results = {}\n",
    "for i, row in tqdm(df.iterrows(), total=len(df)):\n",
    "    text = row['Text']\n",
    "    myid = row['Id']\n",
    "    results[myid] = sia.polarity_scores(text)\n",
    "    "
   ]
  },
  {
   "cell_type": "code",
   "execution_count": 75,
   "metadata": {},
   "outputs": [],
   "source": [
    "# Lets store and view the results in a df\n",
    "vaders = pd.DataFrame(results).T\n",
    "vaders = vaders.reset_index().rename(columns={'index':'Id'})\n",
    "vaders = vaders.merge(df, how='left', on='Id')\n",
    "\n",
    "    \n"
   ]
  },
  {
   "cell_type": "code",
   "execution_count": 76,
   "metadata": {},
   "outputs": [
    {
     "data": {
      "text/html": [
       "<div>\n",
       "<style scoped>\n",
       "    .dataframe tbody tr th:only-of-type {\n",
       "        vertical-align: middle;\n",
       "    }\n",
       "\n",
       "    .dataframe tbody tr th {\n",
       "        vertical-align: top;\n",
       "    }\n",
       "\n",
       "    .dataframe thead th {\n",
       "        text-align: right;\n",
       "    }\n",
       "</style>\n",
       "<table border=\"1\" class=\"dataframe\">\n",
       "  <thead>\n",
       "    <tr style=\"text-align: right;\">\n",
       "      <th></th>\n",
       "      <th>Id</th>\n",
       "      <th>neg</th>\n",
       "      <th>neu</th>\n",
       "      <th>pos</th>\n",
       "      <th>compound</th>\n",
       "      <th>ProductId</th>\n",
       "      <th>UserId</th>\n",
       "      <th>ProfileName</th>\n",
       "      <th>HelpfulnessNumerator</th>\n",
       "      <th>HelpfulnessDenominator</th>\n",
       "      <th>Score</th>\n",
       "      <th>Time</th>\n",
       "      <th>Summary</th>\n",
       "      <th>Text</th>\n",
       "    </tr>\n",
       "  </thead>\n",
       "  <tbody>\n",
       "    <tr>\n",
       "      <th>0</th>\n",
       "      <td>125114</td>\n",
       "      <td>0.117</td>\n",
       "      <td>0.773</td>\n",
       "      <td>0.110</td>\n",
       "      <td>-0.1759</td>\n",
       "      <td>B000NY8OLK</td>\n",
       "      <td>A1I0PEMIH7L8Q</td>\n",
       "      <td>leo</td>\n",
       "      <td>10</td>\n",
       "      <td>10</td>\n",
       "      <td>1</td>\n",
       "      <td>1288310400</td>\n",
       "      <td>New recipe made in USA</td>\n",
       "      <td>Other reviewers have already said that the Lin...</td>\n",
       "    </tr>\n",
       "    <tr>\n",
       "      <th>1</th>\n",
       "      <td>16352</td>\n",
       "      <td>0.000</td>\n",
       "      <td>0.520</td>\n",
       "      <td>0.480</td>\n",
       "      <td>0.9690</td>\n",
       "      <td>B007TJGZ54</td>\n",
       "      <td>ABYVECXXSP6R5</td>\n",
       "      <td>Lapimienta</td>\n",
       "      <td>0</td>\n",
       "      <td>0</td>\n",
       "      <td>5</td>\n",
       "      <td>1280707200</td>\n",
       "      <td>Excellent-love it!</td>\n",
       "      <td>This is the best k-cup coffee I've had.  Its b...</td>\n",
       "    </tr>\n",
       "    <tr>\n",
       "      <th>2</th>\n",
       "      <td>25919</td>\n",
       "      <td>0.164</td>\n",
       "      <td>0.733</td>\n",
       "      <td>0.103</td>\n",
       "      <td>-0.7102</td>\n",
       "      <td>B000EVMNNC</td>\n",
       "      <td>A1JJ0QZIEENQ05</td>\n",
       "      <td>kms</td>\n",
       "      <td>0</td>\n",
       "      <td>2</td>\n",
       "      <td>3</td>\n",
       "      <td>1210636800</td>\n",
       "      <td>ok - but in small portions only</td>\n",
       "      <td>I completely liked these things --- BEFORE I g...</td>\n",
       "    </tr>\n",
       "    <tr>\n",
       "      <th>3</th>\n",
       "      <td>493952</td>\n",
       "      <td>0.022</td>\n",
       "      <td>0.725</td>\n",
       "      <td>0.254</td>\n",
       "      <td>0.9740</td>\n",
       "      <td>B001F3HD06</td>\n",
       "      <td>A1CTTFNLP7MRYB</td>\n",
       "      <td>Dustin</td>\n",
       "      <td>0</td>\n",
       "      <td>0</td>\n",
       "      <td>5</td>\n",
       "      <td>1345161600</td>\n",
       "      <td>Good in Beer Too!!!</td>\n",
       "      <td>First of all, I want to start off by saying th...</td>\n",
       "    </tr>\n",
       "    <tr>\n",
       "      <th>4</th>\n",
       "      <td>223426</td>\n",
       "      <td>0.035</td>\n",
       "      <td>0.672</td>\n",
       "      <td>0.293</td>\n",
       "      <td>0.9695</td>\n",
       "      <td>B002QGK2V8</td>\n",
       "      <td>A2MIUU3BJO38YJ</td>\n",
       "      <td>Ladner D. Brown</td>\n",
       "      <td>1</td>\n",
       "      <td>1</td>\n",
       "      <td>4</td>\n",
       "      <td>1259280000</td>\n",
       "      <td>Smooth, creamy and interesting</td>\n",
       "      <td>I just received my box of Kahula and it wasn't...</td>\n",
       "    </tr>\n",
       "  </tbody>\n",
       "</table>\n",
       "</div>"
      ],
      "text/plain": [
       "       Id    neg    neu    pos  compound   ProductId          UserId  \\\n",
       "0  125114  0.117  0.773  0.110   -0.1759  B000NY8OLK   A1I0PEMIH7L8Q   \n",
       "1   16352  0.000  0.520  0.480    0.9690  B007TJGZ54   ABYVECXXSP6R5   \n",
       "2   25919  0.164  0.733  0.103   -0.7102  B000EVMNNC  A1JJ0QZIEENQ05   \n",
       "3  493952  0.022  0.725  0.254    0.9740  B001F3HD06  A1CTTFNLP7MRYB   \n",
       "4  223426  0.035  0.672  0.293    0.9695  B002QGK2V8  A2MIUU3BJO38YJ   \n",
       "\n",
       "       ProfileName  HelpfulnessNumerator  HelpfulnessDenominator  Score  \\\n",
       "0              leo                    10                      10      1   \n",
       "1       Lapimienta                     0                       0      5   \n",
       "2              kms                     0                       2      3   \n",
       "3           Dustin                     0                       0      5   \n",
       "4  Ladner D. Brown                     1                       1      4   \n",
       "\n",
       "         Time                          Summary  \\\n",
       "0  1288310400           New recipe made in USA   \n",
       "1  1280707200               Excellent-love it!   \n",
       "2  1210636800  ok - but in small portions only   \n",
       "3  1345161600              Good in Beer Too!!!   \n",
       "4  1259280000   Smooth, creamy and interesting   \n",
       "\n",
       "                                                Text  \n",
       "0  Other reviewers have already said that the Lin...  \n",
       "1  This is the best k-cup coffee I've had.  Its b...  \n",
       "2  I completely liked these things --- BEFORE I g...  \n",
       "3  First of all, I want to start off by saying th...  \n",
       "4  I just received my box of Kahula and it wasn't...  "
      ]
     },
     "execution_count": 76,
     "metadata": {},
     "output_type": "execute_result"
    }
   ],
   "source": [
    "# Now we have sentiment scores  and metadata for each review\n",
    "vaders.head()"
   ]
  },
  {
   "attachments": {},
   "cell_type": "markdown",
   "metadata": {},
   "source": [
    "#### Plot VADER Results"
   ]
  },
  {
   "cell_type": "code",
   "execution_count": 60,
   "metadata": {},
   "outputs": [
    {
     "data": {
      "image/png": "[encoded data removed]",
      "text/plain": [
       "<Figure size 640x480 with 1 Axes>"
      ]
     },
     "metadata": {},
     "output_type": "display_data"
    }
   ],
   "source": [
    "# Lets assume that a score of 5 is a positive review and a score of 1 is a negative review\n",
    "ax = sns.barplot(data=vaders, x='Score', y='compound')\n",
    "ax.set_title('Compound Score by Amazon Star Review')\n",
    "\n",
    "plt.show()"
   ]
  },
  {
   "cell_type": "code",
   "execution_count": null,
   "metadata": {},
   "outputs": [],
   "source": []
  }
 ],
 "metadata": {
  "kernelspec": {
   "display_name": "customerBehenv",
   "language": "python",
   "name": "customerbehenv"
  },
  "language_info": {
   "codemirror_mode": {
    "name": "ipython",
    "version": 3
   },
   "file_extension": ".py",
   "mimetype": "text/x-python",
   "name": "python",
   "nbconvert_exporter": "python",
   "pygments_lexer": "ipython3",
   "version": "3.9.16"
  },
  "orig_nbformat": 4
 },
 "nbformat": 4,
 "nbformat_minor": 2
}
