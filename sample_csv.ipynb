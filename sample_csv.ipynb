{
 "cells": [
  {
   "cell_type": "code",
   "execution_count": null,
   "metadata": {},
   "outputs": [],
   "source": [
    "import csv\n",
    "import random\n",
    "import shutil\n",
    "\n",
    "# Specify the path to your original CSV file\n",
    "csv_file = \"Reviews.csv\"\n",
    "\n",
    "# Specify the number of rows to sample\n",
    "sample_size = 500\n",
    "\n",
    "# Specify the path for the new sampled CSV file\n",
    "sampled_csv_file = \"sampled_data.csv\"\n",
    "\n",
    "# Set the seed for reproducibility\n",
    "random.seed(42)  # Change the seed value as desired\n",
    "\n",
    "# Open the original CSV file for reading\n",
    "with open(csv_file, 'r') as file:\n",
    "    reader = csv.reader(file)\n",
    "    header = next(reader)  # Read the header row\n",
    "    data = list(reader)    # Read the remaining data rows\n",
    "\n",
    "# Randomly sample the specified number of rows\n",
    "sampled_data = random.sample(data, sample_size)\n",
    "\n",
    "# Write the header and sampled data to the new CSV file\n",
    "with open(sampled_csv_file, 'w', newline='') as file:\n",
    "    writer = csv.writer(file)\n",
    "    writer.writerow(header)      # Write the header row\n",
    "    writer.writerows(sampled_data)  # Write the sampled data rows\n",
    "\n"
   ]
  }
 ],
 "metadata": {
  "language_info": {
   "name": "python"
  },
  "orig_nbformat": 4
 },
 "nbformat": 4,
 "nbformat_minor": 2
}
